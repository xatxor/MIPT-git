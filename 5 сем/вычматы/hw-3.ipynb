{
 "cells": [
  {
   "cell_type": "markdown",
   "metadata": {},
   "source": [
    "# Laboratory work 2: Systems of linear equations\n",
    "\n",
    "---\n",
    "\n",
    "## Work objective:\n",
    "\n",
    "1) To solve a system of linear equations using 2 direct methods: Gaussian elimination and LU\n",
    "decomposition (if possible), and 3 iterative methods: Jacobi method, Seidel method, successive\n",
    "over-relaxation method;\n",
    "\n",
    "2) To verify obtained results via calculating residuals.\n",
    "\n",
    "## Given linear system\n",
    "\n",
    "\\begin{cases}\n",
    "    ax_1 + x_2 + ... + x_5 = 1 \\\\\n",
    "    x_1 + ax_2 + x_3 + ... + x_6 = 2 \\\\\n",
    "    x_1 + x_2 + ax_3 + x_4 + ... + x_7 = 3 \\\\\n",
    "    x_1 + x_2 + x_3 + ax_4 + x_5 + ... + x_8 = 4 \\\\\n",
    "    x_1 + x_2 + x_3 + x_4 + ax_5 + x_6 + ... + x_9 = 5 \\\\\n",
    "    x_2 + x_3 + x_4 + x_5 + ax_6 + x_7 + ... + x_{10} = 6 \\\\\n",
    "    ... \\\\\n",
    "    x_{k - 4} + ... + x_{k - 1} + ax_k + x_{k + 1} + ... + x_{k + 4} = k \\\\\n",
    "    ... \\\\\n",
    "    x_{93} + ... + x_{96} + ax_{97} + x_{98} + x_{99} + x_{100} = 97 \\\\\n",
    "    x_{94} + ... + x_{97} + ax_{98} + x_{99} + x_{100} = 98 \\\\\n",
    "    x_{95} + ... + x_{98} + ax_{99} + x_{100} = 99 \\\\\n",
    "    x_{96} + ... + x_{99} + ax_{100} = 100 \\\\\n",
    "\\end{cases}\n",
    "\n",
    "Where $a = 10$."
   ]
  },
  {
   "cell_type": "markdown",
   "metadata": {},
   "source": [
    "## Used norms\n",
    "\n",
    "Let $x$ be a n-dimensional vector and $A$ be a matrix of size $n \\times n$.\n",
    "\n",
    "### Norm №1\n",
    "\n",
    "\\begin{equation*}\n",
    "    \\|x\\|_1 = \\max\\limits_{i \\in {1, ..., n}} |x_i|\n",
    "\\end{equation*}\n",
    "\n",
    "\\begin{equation*}\n",
    "    \\|A\\|_1 = \\max\\limits_{i \\in {1, ..., n}} \\sum_{j = 1}^{n} |a_{ij}|\n",
    "\\end{equation*}\n",
    "\n",
    "### Norm №2\n",
    "\n",
    "\\begin{equation*}\n",
    "    \\|x\\|_2 = \\sum_{i = 1}^{n} |x_i|\n",
    "\\end{equation*}\n",
    "\n",
    "\\begin{equation*}\n",
    "    \\|A\\|_2 = \\max\\limits_{j \\in {1, ..., n}} \\sum_{i = 1}^{n} |a_{ij}|\n",
    "\\end{equation*}\n",
    "\n",
    "### Norm №3\n",
    "\n",
    "\\begin{equation*}\n",
    "    \\|x\\|_3 = \\sqrt{(x, x)}\n",
    "\\end{equation*}\n",
    "\n",
    "\\begin{equation*}\n",
    "    \\|A\\|_3 = \\max\\limits_{i \\in {1, ..., n}} \\sqrt{\\lambda_i (A^{\\ast} A)}\n",
    "\\end{equation*}"
   ]
  },
  {
   "cell_type": "code",
   "execution_count": 152,
   "metadata": {},
   "outputs": [],
   "source": [
    "import numpy as np\n",
    "from matplotlib import pyplot as plt"
   ]
  },
  {
   "cell_type": "markdown",
   "metadata": {},
   "source": [
    "## Helper functions and classes"
   ]
  },
  {
   "cell_type": "code",
   "execution_count": 153,
   "metadata": {},
   "outputs": [],
   "source": [
    "def norm_1 (obj):\n",
    "    return np.linalg.norm(obj, ord = np.inf)\n",
    "\n",
    "def norm_2 (obj):\n",
    "    return np.linalg.norm(obj, ord = 1)\n",
    "\n",
    "def norm_3 (obj):\n",
    "    return np.linalg.norm(obj, ord = 2)\n",
    "\n",
    "def direct_method_residual (A, b, method, norm):\n",
    "    return norm(A @ method(A, b) - b)\n",
    "\n",
    "def iterative_method_residual (A, b, method, n_iters, norm):\n",
    "    return norm(A @ method(A, b, n_iters) - b)\n",
    "\n",
    "def check_correctness (A, b):\n",
    "    if A.shape[0] != A.shape[1]:\n",
    "        raise RuntimeError(\"Solving systems of linear equation with non-square matrix\"\n",
    "                           \"is not supported\")\n",
    "    if (A.shape[0] != b.shape[0]):\n",
    "        raise RuntimeError(\"Sizes of matrix and vector mismatch\")\n",
    "\n",
    "class Iter_Method:\n",
    "    def __init__(self, method, name):\n",
    "        self.method_ = method\n",
    "        self.name_ = name\n",
    "\n",
    "class Norm:\n",
    "    def __init__(self, formula, name, color):\n",
    "        self.formula_ = formula\n",
    "        self.name_ = name\n",
    "        self.color_ = color"
   ]
  },
  {
   "cell_type": "markdown",
   "metadata": {},
   "source": [
    "## LU decomposition"
   ]
  },
  {
   "cell_type": "code",
   "execution_count": 154,
   "metadata": {},
   "outputs": [],
   "source": [
    "def check_if_LU_defined (A):\n",
    "\n",
    "    for i in range (0, A.shape[0]):\n",
    "        if np.linalg.det(A[:i, :i]) == 0:\n",
    "            return False\n",
    "\n",
    "    return True\n",
    "\n",
    "def LU_decompose (A):\n",
    "\n",
    "    dim = A.shape[0]\n",
    "    L = np.eye(dim)\n",
    "    U = np.zeros((dim, dim))\n",
    "\n",
    "    for i in range (0, dim):\n",
    "        for j in range (0, i):\n",
    "            L[i, j] = (A[i, j] - sum(L[i, k] * U[k, j] for k in range (0, j))) / U[j, j]\n",
    "        for j in range (i, dim):\n",
    "            U[i, j] = A[i, j] - sum(L[i, k] * U[k, j] for k in range (0, i))\n",
    "\n",
    "    return L, U\n",
    "\n",
    "# A is supposed to be a lower triangular matrix\n",
    "def forward_substitution (A, b):\n",
    "\n",
    "    dim = A.shape[0]\n",
    "\n",
    "    x = np.empty(dim, dtype=float)\n",
    "    for i in range(0, dim):\n",
    "        x[i] = b[i] - sum(A[i, k] * x[k] for k in range (0, i)) / A[i, i]\n",
    "\n",
    "    return x\n",
    "\n",
    "# A is supposed to be an upper triangular matrix\n",
    "def back_substitution (A, b):\n",
    "\n",
    "    dim = A.shape[0]\n",
    "\n",
    "    x = np.empty(dim, dtype=float)\n",
    "    for i in range (dim - 1, -1, -1):\n",
    "        x[i] = (b[i] - sum(A[i, k] * x[k] for k in range (i + 1, dim))) / A[i, i]\n",
    "\n",
    "    return x\n",
    "\n",
    "def LU_decomposition (A_, b_):\n",
    "\n",
    "    check_correctness(A_, b_)\n",
    "\n",
    "    if not check_if_LU_defined(A_):\n",
    "        raise RuntimeError(\"LU decomposition for given matrix is undefined\")\n",
    "\n",
    "    A = A_.copy()\n",
    "    b = b_.copy()\n",
    "\n",
    "    L, U = LU_decompose (A)\n",
    "\n",
    "    return back_substitution(U, forward_substitution(L, b))"
   ]
  },
  {
   "cell_type": "markdown",
   "metadata": {},
   "source": [
    "## Gaussian elimination with pivoting"
   ]
  },
  {
   "cell_type": "code",
   "execution_count": 155,
   "metadata": {},
   "outputs": [],
   "source": [
    "def swap_rows (A, b, i, j):\n",
    "\n",
    "    A[[i, j]] = A[[j, i]]\n",
    "    b[i], b[j] = b[j], b[i]\n",
    "\n",
    "def find_pivot (A, i, j):\n",
    "\n",
    "    pivot_row = i\n",
    "    pivot = A[i, j]\n",
    "\n",
    "    for row_i in range (i, A.shape[0]):\n",
    "        elem = A[row_i][j]\n",
    "        if (abs(pivot) < abs(elem)):\n",
    "            pivot_row = row_i\n",
    "            pivot = elem\n",
    "\n",
    "    return pivot_row\n",
    "\n",
    "def Gaussian_elimination (A_, b_):\n",
    "\n",
    "    check_correctness(A_, b_)\n",
    "\n",
    "    A = A_.copy()\n",
    "    b = b_.copy()\n",
    "    dim = A.shape[0]\n",
    "\n",
    "    for row_i in range (0, dim - 1):\n",
    "\n",
    "        pivot_row = find_pivot(A, row_i, row_i)\n",
    "\n",
    "        if (row_i != pivot_row):\n",
    "            swap_rows (A, b, row_i, pivot_row)\n",
    "\n",
    "        for j in range (row_i + 1, dim):\n",
    "            m = A[j, row_i] / A[row_i, row_i]\n",
    "            A[j] -= m * A[row_i]\n",
    "            b[j] -= m * b[row_i]\n",
    "\n",
    "    return back_substitution(A, b)"
   ]
  },
  {
   "cell_type": "markdown",
   "metadata": {},
   "source": [
    "## Jacobi method"
   ]
  },
  {
   "cell_type": "code",
   "execution_count": 156,
   "metadata": {},
   "outputs": [],
   "source": [
    "def Jacobi_method (A, b, n_iters):\n",
    "\n",
    "    check_correctness (A, b)\n",
    "\n",
    "    D = np.diag (np.diag (A))\n",
    "    M_0 = np.linalg.inv (D)\n",
    "    M_1 = M_0 @ b\n",
    "    M_2 = M_0 @ (A - D)\n",
    "\n",
    "    x = np.zeros (A.shape[0])\n",
    "    for k in range (0, n_iters):\n",
    "        x = M_1 - M_2 @ x\n",
    "\n",
    "    return x"
   ]
  },
  {
   "cell_type": "markdown",
   "metadata": {},
   "source": [
    "## Seidel method"
   ]
  },
  {
   "cell_type": "code",
   "execution_count": 157,
   "metadata": {},
   "outputs": [],
   "source": [
    "def Seidel_method (A, b, n_iters):\n",
    "\n",
    "    check_correctness (A, b)\n",
    "\n",
    "    LpD = np.tril(A)\n",
    "    M_0 = np.linalg.inv (LpD)\n",
    "    M_1 = M_0 @ b\n",
    "    M_2 = M_0 @ (A - LpD)\n",
    "\n",
    "    x = np.zeros (A.shape[0])\n",
    "    for k in range (0, n_iters):\n",
    "        x = M_1 - M_2 @ x\n",
    "\n",
    "    return x"
   ]
  },
  {
   "cell_type": "markdown",
   "metadata": {},
   "source": [
    "## Successive over-relaxation method"
   ]
  },
  {
   "cell_type": "code",
   "execution_count": 158,
   "metadata": {},
   "outputs": [],
   "source": [
    "def successive_over_relaxation (A, b, n_iters):\n",
    "\n",
    "    check_correctness (A, b)\n",
    "\n",
    "    dim = A.shape[0]\n",
    "\n",
    "    w = 1.1\n",
    "    x = np.zeros(dim)\n",
    "    for k in range (0, n_iters):\n",
    "        for i in range (0, dim):\n",
    "            sigma = A[i][i] * x[i] - sum(A[i][j] * x[j] for j in range (0, dim))\n",
    "            x[i] = (1 - w) * x[i] + w * (b[i] + sigma) / A[i, i]\n",
    "\n",
    "    return x"
   ]
  },
  {
   "cell_type": "markdown",
   "metadata": {},
   "source": [
    "## Input data"
   ]
  },
  {
   "cell_type": "code",
   "execution_count": 159,
   "metadata": {},
   "outputs": [
    {
     "name": "stdout",
     "output_type": "stream",
     "text": [
      "Матрица успешно загружена\n"
     ]
    }
   ],
   "source": [
    "def load_matrix_from_file(filename):\n",
    "    with open(filename, 'r') as file:\n",
    "        lines = file.readlines()\n",
    "    data = []\n",
    "    for line in lines:\n",
    "        if line.strip() == '':\n",
    "            continue\n",
    "        row = [float(x) for x in line.split()]\n",
    "        data.append(row)\n",
    "    A = np.array(data, dtype=float)  # или dtype=int если нужны целые числа\n",
    "    return A\n",
    "\n",
    "A = load_matrix_from_file(\"bad_matrix7.txt\")\n",
    "B = load_matrix_from_file(\"good_matrix7.txt\")\n",
    "print(\"Матрица успешно загружена\")\n",
    "dimA = A.shape\n",
    "dimB = B.shape\n",
    "a = np.arange (1, dimA[0] + 1, dtype = float)\n",
    "b = np.arange (1, dimB[0] + 1, dtype = float)"
   ]
  },
  {
   "cell_type": "markdown",
   "metadata": {},
   "source": []
  },
  {
   "cell_type": "markdown",
   "metadata": {},
   "source": [
    "## Results\n",
    "\n",
    "### Residual of direct methods"
   ]
  },
  {
   "cell_type": "code",
   "execution_count": 160,
   "metadata": {},
   "outputs": [
    {
     "name": "stdout",
     "output_type": "stream",
     "text": [
      "Gaussian elimination for matrix A (bad):\n",
      "- norm 1: 6.821210263296962e-13\n",
      "- norm 2: 6.0254023992456496e-12\n",
      "- norm 3: 1.5956708065935117e-12\n",
      "Gaussian elimination for matrix B (good):\n",
      "- norm 1: 5.329070518200751e-15\n",
      "- norm 2: 2.7977620220553945e-14\n",
      "- norm 3: 9.780050345373876e-15\n",
      "\n",
      "Residual of LU decomposition:\n",
      "- norm 1: 9.780050345373876e-15\n",
      "- norm 2: 3.637978807091713e-12\n",
      "- norm 3: 1.3983481039758772e-11\n"
     ]
    },
    {
     "name": "stderr",
     "output_type": "stream",
     "text": [
      "<>:1: SyntaxWarning: invalid escape sequence '\\|'\n",
      "<>:2: SyntaxWarning: invalid escape sequence '\\|'\n",
      "<>:3: SyntaxWarning: invalid escape sequence '\\|'\n",
      "<>:1: SyntaxWarning: invalid escape sequence '\\|'\n",
      "<>:2: SyntaxWarning: invalid escape sequence '\\|'\n",
      "<>:3: SyntaxWarning: invalid escape sequence '\\|'\n",
      "C:\\Users\\kiran\\AppData\\Local\\Temp\\ipykernel_28204\\3772390876.py:1: SyntaxWarning: invalid escape sequence '\\|'\n",
      "  norms_list = [Norm(norm_1, \"$\\|x\\|_1$\", \"red\"),\n",
      "C:\\Users\\kiran\\AppData\\Local\\Temp\\ipykernel_28204\\3772390876.py:2: SyntaxWarning: invalid escape sequence '\\|'\n",
      "  Norm(norm_2, \"$\\|x\\|_2$\", \"green\"),\n",
      "C:\\Users\\kiran\\AppData\\Local\\Temp\\ipykernel_28204\\3772390876.py:3: SyntaxWarning: invalid escape sequence '\\|'\n",
      "  Norm(norm_3, \"$\\|x\\|_3$\", \"blue\")]\n"
     ]
    }
   ],
   "source": [
    "norms_list = [Norm(norm_1, \"$\\|x\\|_1$\", \"red\"),\n",
    "              Norm(norm_2, \"$\\|x\\|_2$\", \"green\"),\n",
    "              Norm(norm_3, \"$\\|x\\|_3$\", \"blue\")]\n",
    "\n",
    "print (\"Gaussian elimination for matrix A (bad):\")\n",
    "for i in range (len (norms_list)):\n",
    "    residual = direct_method_residual (A, a, Gaussian_elimination, norms_list[i].formula_)\n",
    "    print (f\"- norm {i + 1}: {residual}\")\n",
    "\n",
    "print (\"Gaussian elimination for matrix B (good):\")\n",
    "for i in range (len (norms_list)):\n",
    "    residual = direct_method_residual (B, b, Gaussian_elimination, norms_list[i].formula_)\n",
    "    print (f\"- norm {i + 1}: {residual}\")\n",
    "\n",
    "print (\"\\nResidual of LU decomposition:\")\n",
    "for i in range (len (norms_list)):\n",
    "    print (f\"- norm {i + 1}: {residual}\")\n",
    "    residual = direct_method_residual (A, b, LU_decomposition, norms_list[i].formula_)"
   ]
  },
  {
   "cell_type": "markdown",
   "metadata": {},
   "source": [
    "### Dependence of residual of iterative methods on the number of iterations"
   ]
  },
  {
   "cell_type": "code",
   "execution_count": 161,
   "metadata": {},
   "outputs": [
    {
     "ename": "LinAlgError",
     "evalue": "Singular matrix",
     "output_type": "error",
     "traceback": [
      "\u001b[1;31m---------------------------------------------------------------------------\u001b[0m",
      "\u001b[1;31mLinAlgError\u001b[0m                               Traceback (most recent call last)",
      "Cell \u001b[1;32mIn[161], line 25\u001b[0m\n\u001b[0;32m     23\u001b[0m residuals \u001b[38;5;241m=\u001b[39m []\n\u001b[0;32m     24\u001b[0m \u001b[38;5;28;01mfor\u001b[39;00m i \u001b[38;5;129;01min\u001b[39;00m iters:\n\u001b[1;32m---> 25\u001b[0m     residuals\u001b[38;5;241m.\u001b[39mappend(iterative_method_residual(A, b, method\u001b[38;5;241m.\u001b[39mmethod_, i, norm\u001b[38;5;241m.\u001b[39mformula_))\n\u001b[0;32m     27\u001b[0m plt\u001b[38;5;241m.\u001b[39mscatter (iters, residuals, s \u001b[38;5;241m=\u001b[39m \u001b[38;5;241m15\u001b[39m, color \u001b[38;5;241m=\u001b[39m norm\u001b[38;5;241m.\u001b[39mcolor_, label \u001b[38;5;241m=\u001b[39m norm\u001b[38;5;241m.\u001b[39mname_)\n\u001b[0;32m     28\u001b[0m plt\u001b[38;5;241m.\u001b[39mplot (iters, residuals, color\u001b[38;5;241m=\u001b[39mnorm\u001b[38;5;241m.\u001b[39mcolor_, linewidth \u001b[38;5;241m=\u001b[39m \u001b[38;5;241m1\u001b[39m)\n",
      "Cell \u001b[1;32mIn[153], line 14\u001b[0m, in \u001b[0;36miterative_method_residual\u001b[1;34m(A, b, method, n_iters, norm)\u001b[0m\n\u001b[0;32m     13\u001b[0m \u001b[38;5;28;01mdef\u001b[39;00m \u001b[38;5;21miterative_method_residual\u001b[39m (A, b, method, n_iters, norm):\n\u001b[1;32m---> 14\u001b[0m     \u001b[38;5;28;01mreturn\u001b[39;00m norm(A \u001b[38;5;241m@\u001b[39m method(A, b, n_iters) \u001b[38;5;241m-\u001b[39m b)\n",
      "Cell \u001b[1;32mIn[156], line 6\u001b[0m, in \u001b[0;36mJacobi_method\u001b[1;34m(A, b, n_iters)\u001b[0m\n\u001b[0;32m      3\u001b[0m check_correctness (A, b)\n\u001b[0;32m      5\u001b[0m D \u001b[38;5;241m=\u001b[39m np\u001b[38;5;241m.\u001b[39mdiag (np\u001b[38;5;241m.\u001b[39mdiag (A))\n\u001b[1;32m----> 6\u001b[0m M_0 \u001b[38;5;241m=\u001b[39m np\u001b[38;5;241m.\u001b[39mlinalg\u001b[38;5;241m.\u001b[39minv (D)\n\u001b[0;32m      7\u001b[0m M_1 \u001b[38;5;241m=\u001b[39m M_0 \u001b[38;5;241m@\u001b[39m b\n\u001b[0;32m      8\u001b[0m M_2 \u001b[38;5;241m=\u001b[39m M_0 \u001b[38;5;241m@\u001b[39m (A \u001b[38;5;241m-\u001b[39m D)\n",
      "File \u001b[1;32mc:\\Users\\kiran\\anaconda3\\Lib\\site-packages\\numpy\\linalg\\linalg.py:561\u001b[0m, in \u001b[0;36minv\u001b[1;34m(a)\u001b[0m\n\u001b[0;32m    559\u001b[0m signature \u001b[38;5;241m=\u001b[39m \u001b[38;5;124m'\u001b[39m\u001b[38;5;124mD->D\u001b[39m\u001b[38;5;124m'\u001b[39m \u001b[38;5;28;01mif\u001b[39;00m isComplexType(t) \u001b[38;5;28;01melse\u001b[39;00m \u001b[38;5;124m'\u001b[39m\u001b[38;5;124md->d\u001b[39m\u001b[38;5;124m'\u001b[39m\n\u001b[0;32m    560\u001b[0m extobj \u001b[38;5;241m=\u001b[39m get_linalg_error_extobj(_raise_linalgerror_singular)\n\u001b[1;32m--> 561\u001b[0m ainv \u001b[38;5;241m=\u001b[39m _umath_linalg\u001b[38;5;241m.\u001b[39minv(a, signature\u001b[38;5;241m=\u001b[39msignature, extobj\u001b[38;5;241m=\u001b[39mextobj)\n\u001b[0;32m    562\u001b[0m \u001b[38;5;28;01mreturn\u001b[39;00m wrap(ainv\u001b[38;5;241m.\u001b[39mastype(result_t, copy\u001b[38;5;241m=\u001b[39m\u001b[38;5;28;01mFalse\u001b[39;00m))\n",
      "File \u001b[1;32mc:\\Users\\kiran\\anaconda3\\Lib\\site-packages\\numpy\\linalg\\linalg.py:112\u001b[0m, in \u001b[0;36m_raise_linalgerror_singular\u001b[1;34m(err, flag)\u001b[0m\n\u001b[0;32m    111\u001b[0m \u001b[38;5;28;01mdef\u001b[39;00m \u001b[38;5;21m_raise_linalgerror_singular\u001b[39m(err, flag):\n\u001b[1;32m--> 112\u001b[0m     \u001b[38;5;28;01mraise\u001b[39;00m LinAlgError(\u001b[38;5;124m\"\u001b[39m\u001b[38;5;124mSingular matrix\u001b[39m\u001b[38;5;124m\"\u001b[39m)\n",
      "\u001b[1;31mLinAlgError\u001b[0m: Singular matrix"
     ]
    },
    {
     "data": {
      "image/png": "[encoded data removed]",
      "text/plain": [
       "<Figure size 2100x900 with 1 Axes>"
      ]
     },
     "metadata": {},
     "output_type": "display_data"
    }
   ],
   "source": [
    "n_iters = 20\n",
    "\n",
    "methods_list = [Iter_Method(Jacobi_method, \"Jacobi\"),\n",
    "                Iter_Method(Seidel_method, \"Seidel\"),\n",
    "                Iter_Method(successive_over_relaxation, \"Successive over-relaxation\")]\n",
    "\n",
    "for method in methods_list:\n",
    "\n",
    "    plt.figure (figsize = (21, 9), dpi = 100)\n",
    "    plt.title(method.name_, fontsize=30)\n",
    "\n",
    "    plt.xscale(\"log\")\n",
    "    plt.yscale(\"log\")\n",
    "\n",
    "    plt.xlabel(\"log(number of iterations)\", fontsize = 24)\n",
    "    plt.xticks (fontsize = 20, ha = \"center\", va = \"top\")\n",
    "\n",
    "    plt.ylabel(\"log(residual)\", fontsize = 24)\n",
    "    plt.yticks (fontsize = 20, rotation = 30, ha = \"right\", va = \"top\")\n",
    "\n",
    "    iters = np.arange(1, n_iters + 1)\n",
    "    for norm in norms_list:\n",
    "        residuals = []\n",
    "        for i in iters:\n",
    "            residuals.append(iterative_method_residual(A, b, method.method_, i, norm.formula_))\n",
    "\n",
    "        plt.scatter (iters, residuals, s = 15, color = norm.color_, label = norm.name_)\n",
    "        plt.plot (iters, residuals, color=norm.color_, linewidth = 1)\n",
    "\n",
    "    plt.legend (loc = \"best\", fontsize = 14)\n",
    "\n",
    "    plt.grid (color = \"black\", linewidth = 0.45, linestyle = \"dotted\")\n",
    "    plt.minorticks_on()\n",
    "    plt.grid (which = \"minor\", color = \"grey\", linewidth = 0.25, linestyle = \"dashed\")\n",
    "\n",
    "    plt.show()"
   ]
  }
 ],
 "metadata": {
  "kernelspec": {
   "display_name": "base",
   "language": "python",
   "name": "python3"
  },
  "language_info": {
   "codemirror_mode": {
    "name": "ipython",
    "version": 3
   },
   "file_extension": ".py",
   "mimetype": "text/x-python",
   "name": "python",
   "nbconvert_exporter": "python",
   "pygments_lexer": "ipython3",
   "version": "3.12.7"
  }
 },
 "nbformat": 4,
 "nbformat_minor": 2
}
