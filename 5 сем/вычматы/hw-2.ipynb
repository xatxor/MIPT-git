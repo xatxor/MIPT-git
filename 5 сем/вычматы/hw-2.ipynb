{
 "cells": [
  {
   "cell_type": "markdown",
   "metadata": {},
   "source": [
    "# HW 2"
   ]
  },
  {
   "cell_type": "markdown",
   "metadata": {},
   "source": [
    "\\begin{equation*}\n",
    "    \\|x\\|_1 = \\max\\limits_{i \\in {1, ..., n}} |x_i|\n",
    "\\end{equation*}\n",
    "\n",
    "\\begin{equation*}\n",
    "    \\|A\\|_1 = \\max\\limits_{i \\in {1, ..., n}} \\sum_{j = 1}^{n} |a_{ij}|\n",
    "\\end{equation*}\n",
    "\n",
    "\\begin{equation*}\n",
    "    \\|x\\|_2 = \\sum_{i = 1}^{n} |x_i|\n",
    "\\end{equation*}\n",
    "\n",
    "\\begin{equation*}\n",
    "    \\|A\\|_2 = \\max\\limits_{j \\in {1, ..., n}} \\sum_{i = 1}^{n} |a_{ij}|\n",
    "\\end{equation*}\n",
    "\n",
    "\\begin{equation*}\n",
    "    \\|x\\|_3 = \\sqrt{(x, x)}\n",
    "\\end{equation*}\n",
    "\n",
    "\\begin{equation*}\n",
    "    \\|A\\|_3 = \\max\\limits_{i \\in {1, ..., n}} \\sqrt{\\lambda_i (A^{\\ast} A)}\n",
    "\\end{equation*}"
   ]
  },
  {
   "cell_type": "code",
   "execution_count": 167,
   "metadata": {},
   "outputs": [],
   "source": [
    "import numpy as np\n",
    "from matplotlib import pyplot as plt"
   ]
  },
  {
   "cell_type": "code",
   "execution_count": 168,
   "metadata": {},
   "outputs": [],
   "source": [
    "def norm_1 (obj):\n",
    "    return np.linalg.norm(obj, ord = np.inf)\n",
    "\n",
    "def norm_2 (obj):\n",
    "    return np.linalg.norm(obj, ord = 1)\n",
    "\n",
    "def norm_3 (obj):\n",
    "    return np.linalg.norm(obj, ord = 2)\n",
    "\n",
    "def direct_method_residual (A, b, method, norm):\n",
    "    return norm(A @ method(A, b) - b)\n",
    "\n",
    "def check_correctness (A, b):\n",
    "    if A.shape[0] != A.shape[1]:\n",
    "        raise RuntimeError(\"Solving systems of linear equation with non-square matrix\"\n",
    "                           \"is not supported\")\n",
    "    if (A.shape[0] != b.shape[0]):\n",
    "        raise RuntimeError(\"Sizes of matrix and vector mismatch\")\n",
    "\n",
    "class Norm:\n",
    "    def __init__(self, formula, name):\n",
    "        self.formula_ = formula\n",
    "        self.name_ = name"
   ]
  },
  {
   "cell_type": "markdown",
   "metadata": {},
   "source": [
    "## Gaussian elimination with pivoting"
   ]
  },
  {
   "cell_type": "code",
   "execution_count": 169,
   "metadata": {},
   "outputs": [],
   "source": [
    "def swap_rows (A, b, i, j):\n",
    "\n",
    "    A[[i, j]] = A[[j, i]]\n",
    "    b[i], b[j] = b[j], b[i]\n",
    "\n",
    "#Находим строку с максимальным по модулю элементом в столбце j, начиная со строки i\n",
    "def find_pivot (A, i, j):\n",
    "\n",
    "    pivot_row = i\n",
    "    pivot = A[i, j]\n",
    "\n",
    "    for row_i in range (i, A.shape[0]):\n",
    "        elem = A[row_i][j]\n",
    "        if (abs(pivot) < abs(elem)):\n",
    "            pivot_row = row_i\n",
    "            pivot = elem\n",
    "\n",
    "    return pivot_row\n",
    "\n",
    "#Решаем систему с верхнетреугольной матрицей A\n",
    "def back_substitution (A, b):\n",
    "\n",
    "    dim = A.shape[0]\n",
    "\n",
    "    x = np.empty(dim, dtype=float)\n",
    "    for i in range (dim - 1, -1, -1):\n",
    "        x[i] = (b[i] - sum(A[i, k] * x[k] for k in range (i + 1, dim))) / A[i, i]\n",
    "\n",
    "    return x\n",
    "\n",
    "def Gaussian_elimination (A_, b_):\n",
    "\n",
    "    check_correctness(A_, b_)\n",
    "\n",
    "    A = A_.copy()\n",
    "    b = b_.copy()\n",
    "    dim = A.shape[0]\n",
    "\n",
    "    for row_i in range (0, dim - 1):\n",
    "\n",
    "        pivot_row = find_pivot(A, row_i, row_i)\n",
    "\n",
    "        if (row_i != pivot_row):\n",
    "            swap_rows (A, b, row_i, pivot_row)\n",
    "\n",
    "        #Иключаем переменные\n",
    "        for j in range (row_i + 1, dim):\n",
    "            m = A[j, row_i] / A[row_i, row_i]\n",
    "            A[j] -= m * A[row_i]\n",
    "            b[j] -= m * b[row_i]\n",
    "\n",
    "    return back_substitution(A, b)"
   ]
  },
  {
   "cell_type": "markdown",
   "metadata": {},
   "source": [
    "## Input data"
   ]
  },
  {
   "cell_type": "code",
   "execution_count": 170,
   "metadata": {},
   "outputs": [
    {
     "name": "stdout",
     "output_type": "stream",
     "text": [
      "Matrix are loaded: dimA = (20, 20) ; dimB = (20, 20)\n"
     ]
    }
   ],
   "source": [
    "def load_matrix_from_file(filename):\n",
    "    with open(filename, 'r') as file:\n",
    "        lines = file.readlines()\n",
    "    data = []\n",
    "    for line in lines:\n",
    "        if line.strip() == '':\n",
    "            continue\n",
    "        row = [float(x) for x in line.split()]\n",
    "        data.append(row)\n",
    "    A = np.array(data, dtype=float)\n",
    "    return A\n",
    "\n",
    "A = load_matrix_from_file(\"111/bad_matrix7.txt\")\n",
    "B = load_matrix_from_file(\"111/good_matrix7.txt\")\n",
    "dimA = A.shape\n",
    "dimB = B.shape\n",
    "print(\"Matrix are loaded: dimA =\" , dimA , \"; dimB =\" , dimB)\n",
    "a = np.arange (1, dimA[0] + 1, dtype = float)\n",
    "b = np.arange (1, dimB[0] + 1, dtype = float)\n",
    "#"
   ]
  },
  {
   "cell_type": "markdown",
   "metadata": {},
   "source": [
    "## Results"
   ]
  },
  {
   "cell_type": "code",
   "execution_count": 171,
   "metadata": {},
   "outputs": [
    {
     "name": "stdout",
     "output_type": "stream",
     "text": [
      "Gaussian elimination for matrix A (bad):\n",
      "- norm 1: 6.821210263296962e-13\n",
      "- norm 2: 6.0254023992456496e-12\n",
      "- norm 3: 1.5956708065935117e-12\n",
      "Gaussian elimination for matrix B (good):\n",
      "- norm 1: 5.329070518200751e-15\n",
      "- norm 2: 2.7977620220553945e-14\n",
      "- norm 3: 9.780050345373876e-15\n"
     ]
    }
   ],
   "source": [
    "norms_list = [Norm(norm_1, \"x1\"),\n",
    "              Norm(norm_2, \"x2\"),\n",
    "              Norm(norm_3, \"x3\")]\n",
    "\n",
    "print (\"Gaussian elimination for matrix A (bad):\")\n",
    "for i in range (len (norms_list)):\n",
    "    residual =  direct_method_residual(A, a, Gaussian_elimination, norms_list[i].formula_)\n",
    "    print (f\"- norm {i + 1}: {residual}\")\n",
    "\n",
    "print (\"Gaussian elimination for matrix B (good):\")\n",
    "for i in range (len (norms_list)):\n",
    "    residual = direct_method_residual (B, b, Gaussian_elimination, norms_list[i].formula_)\n",
    "    print (f\"- norm {i + 1}: {residual}\")"
   ]
  }
 ],
 "metadata": {
  "kernelspec": {
   "display_name": "base",
   "language": "python",
   "name": "python3"
  },
  "language_info": {
   "codemirror_mode": {
    "name": "ipython",
    "version": 3
   },
   "file_extension": ".py",
   "mimetype": "text/x-python",
   "name": "python",
   "nbconvert_exporter": "python",
   "pygments_lexer": "ipython3",
   "version": "3.12.7"
  }
 },
 "nbformat": 4,
 "nbformat_minor": 2
}
